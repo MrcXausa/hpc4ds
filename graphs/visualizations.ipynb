{
 "cells": [
  {
   "cell_type": "code",
   "execution_count": null,
   "metadata": {},
   "outputs": [],
   "source": [
    "import matplotlib.pyplot as plt\n",
    "import numpy as np\n"
   ]
  },
  {
   "cell_type": "code",
   "execution_count": null,
   "metadata": {},
   "outputs": [],
   "source": [
    "s = [\"1.0\",\"1.24\",\"2.27\",\"3.12\",\"3.47\",\"2.65\",\"2.79\"]\n",
    "e = [\"1.0\",\"0.31\",\"0.28\",\"0.26\",\"0.21\",\"0.11\",\"0.07\"]\n",
    "  \n",
    "# first plot with X and Y data\n",
    "plt.plot(s, e)"
   ]
  },
  {
   "cell_type": "code",
   "execution_count": null,
   "metadata": {},
   "outputs": [],
   "source": [
    "  \n",
    "# second plot with x1 and y1 data\n",
    "plt.plot(s, e, '-.')\n",
    "  \n",
    "plt.xlabel(\"X-axis data\")\n",
    "plt.ylabel(\"Y-axis data\")\n",
    "plt.title('multiple plots')\n",
    "plt.show()"
   ]
  }
 ],
 "metadata": {
  "language_info": {
   "name": "python"
  },
  "orig_nbformat": 4
 },
 "nbformat": 4,
 "nbformat_minor": 2
}
